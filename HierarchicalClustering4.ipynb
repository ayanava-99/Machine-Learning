{
  "nbformat": 4,
  "nbformat_minor": 0,
  "metadata": {
    "colab": {
      "name": "HierarchicalClustering4.ipynb",
      "provenance": [],
      "include_colab_link": true
    },
    "kernelspec": {
      "name": "python3",
      "display_name": "Python 3"
    }
  },
  "cells": [
    {
      "cell_type": "markdown",
      "metadata": {
        "id": "view-in-github",
        "colab_type": "text"
      },
      "source": [
        "<a href=\"https://colab.research.google.com/github/cagBRT/Machine-Learning/blob/master/HierarchicalClustering4.ipynb\" target=\"_parent\"><img src=\"https://colab.research.google.com/assets/colab-badge.svg\" alt=\"Open In Colab\"/></a>"
      ]
    },
    {
      "cell_type": "markdown",
      "metadata": {
        "id": "1NeEsZrcWmpN",
        "colab_type": "text"
      },
      "source": [
        "https://www.kaggle.com/cemutku/k-means-and-hierarchical-clustering-implementation"
      ]
    },
    {
      "cell_type": "code",
      "metadata": {
        "id": "lnA0uNIX1Q-7",
        "colab_type": "code",
        "colab": {}
      },
      "source": [
        "!git clone -l -s https://github.com/cagBRT/Machine-Learning.git cloned-repo\n",
        "%cd cloned-repo\n",
        "!ls"
      ],
      "execution_count": null,
      "outputs": []
    },
    {
      "cell_type": "markdown",
      "metadata": {
        "id": "TnDJYddVS7Xz",
        "colab_type": "text"
      },
      "source": [
        "Import the necessary libraries"
      ]
    },
    {
      "cell_type": "code",
      "metadata": {
        "id": "A9nV_MxgUPua",
        "colab_type": "code",
        "colab": {}
      },
      "source": [
        "import numpy as np # linear algebra\n",
        "import pandas as pd # data processing, CSV file I/O (e.g. pd.read_csv)\n",
        "import matplotlib.pyplot as plt\n",
        "import seaborn as sns\n",
        "from scipy.cluster.hierarchy import linkage,dendrogram\n",
        "from sklearn.cluster import AgglomerativeClustering"
      ],
      "execution_count": null,
      "outputs": []
    },
    {
      "cell_type": "markdown",
      "metadata": {
        "id": "kJkaJZaGS-un",
        "colab_type": "text"
      },
      "source": [
        "Get the data and prepare it"
      ]
    },
    {
      "cell_type": "code",
      "metadata": {
        "id": "Zd_pN8hKUtKx",
        "colab_type": "code",
        "colab": {}
      },
      "source": [
        "# Read and upload data\n",
        "data = pd.read_csv(\"breast_cancer_data.csv\")"
      ],
      "execution_count": null,
      "outputs": []
    },
    {
      "cell_type": "code",
      "metadata": {
        "id": "xk8CJT9-U588",
        "colab_type": "code",
        "colab": {}
      },
      "source": [
        "# We don't need id and NaN data.\n",
        "data.drop([\"Unnamed: 32\", \"id\"], axis = 1, inplace = True)\n",
        "data.head()"
      ],
      "execution_count": null,
      "outputs": []
    },
    {
      "cell_type": "markdown",
      "metadata": {
        "id": "6rEZ6_SYTBHi",
        "colab_type": "text"
      },
      "source": [
        "Plot the data,<br>\n",
        "> malignant = reg<br>\n",
        "benign = blue<br>"
      ]
    },
    {
      "cell_type": "code",
      "metadata": {
        "id": "LTL_EO31a_hW",
        "colab_type": "code",
        "colab": {}
      },
      "source": [
        "xaxis = \"radius_mean\"\n",
        "yaxis = \"texture_mean\""
      ],
      "execution_count": null,
      "outputs": []
    },
    {
      "cell_type": "code",
      "metadata": {
        "id": "zNFRZsh72K-V",
        "colab_type": "code",
        "colab": {}
      },
      "source": [
        "plt.figure(figsize = (15, 10))\n",
        "plt.scatter(data[xaxis][data[\"diagnosis\"] == \"M\"], data[yaxis][data[\"diagnosis\"]== \"M\"], color = \"red\")\n",
        "plt.scatter(data[xaxis][data[\"diagnosis\"]  == \"B\"], data[yaxis][data[\"diagnosis\"]== \"B\"], color = \"blue\")\n",
        "\n",
        "plt.xlabel(xaxis)\n",
        "plt.ylabel(yaxis)\n",
        "\n",
        "plt.show()"
      ],
      "execution_count": null,
      "outputs": []
    },
    {
      "cell_type": "markdown",
      "metadata": {
        "id": "6kjsmxRrTN8C",
        "colab_type": "text"
      },
      "source": [
        "Question: What do you think of the data? "
      ]
    },
    {
      "cell_type": "code",
      "metadata": {
        "id": "0DzfFuwwU_zB",
        "colab_type": "code",
        "colab": {}
      },
      "source": [
        "data[\"diagnosis\"].value_counts()"
      ],
      "execution_count": null,
      "outputs": []
    },
    {
      "cell_type": "markdown",
      "metadata": {
        "id": "QWohtP1_TV9Q",
        "colab_type": "text"
      },
      "source": [
        "Drop the label, the model will determine the label"
      ]
    },
    {
      "cell_type": "code",
      "metadata": {
        "id": "R48TEE5uVMI7",
        "colab_type": "code",
        "colab": {}
      },
      "source": [
        "# For clustering we do not need labels. Because we'll identify the labels.\n",
        "diag = data[\"diagnosis\"]\n",
        "dataWithoutLabels = data.drop([\"diagnosis\"], axis = 1)\n",
        "dataWithoutLabels.head()"
      ],
      "execution_count": null,
      "outputs": []
    },
    {
      "cell_type": "markdown",
      "metadata": {
        "id": "MR6OG69STZry",
        "colab_type": "text"
      },
      "source": [
        "Plot the area_se vs texture_mean"
      ]
    },
    {
      "cell_type": "code",
      "metadata": {
        "id": "7kY9ZCTYVXMV",
        "colab_type": "code",
        "colab": {}
      },
      "source": [
        "# area_se and texture_mean features will be used for clustering.\n",
        "sns.pairplot(data.loc[:,[xaxis,yaxis, 'diagnosis']], hue = \"diagnosis\", height = 5)\n",
        "plt.show()"
      ],
      "execution_count": null,
      "outputs": []
    },
    {
      "cell_type": "markdown",
      "metadata": {
        "id": "5_xJPtUiTgON",
        "colab_type": "text"
      },
      "source": [
        "Use the hierarchical model to classify the data"
      ]
    },
    {
      "cell_type": "code",
      "metadata": {
        "id": "gp0JPep-Vk4V",
        "colab_type": "code",
        "colab": {}
      },
      "source": [
        "plt.figure(figsize = (15, 15))\n",
        "merg = linkage(dataWithoutLabels, method = \"ward\")\n",
        "dendrogram(merg, leaf_rotation = 90)\n",
        "\n",
        "plt.xlabel(\"data points\")\n",
        "plt.ylabel(\"euclidean distance\")\n",
        "plt.show()"
      ],
      "execution_count": null,
      "outputs": []
    },
    {
      "cell_type": "markdown",
      "metadata": {
        "id": "HkqnbLG8UJo_",
        "colab_type": "text"
      },
      "source": [
        "Make predictions based on the number of clusters"
      ]
    },
    {
      "cell_type": "code",
      "metadata": {
        "id": "6ISbKkfgV2Lj",
        "colab_type": "code",
        "colab": {}
      },
      "source": [
        "hc = AgglomerativeClustering(n_clusters = 2, affinity = \"euclidean\", linkage = \"ward\")\n",
        "cluster = hc.fit_predict(dataWithoutLabels)"
      ],
      "execution_count": null,
      "outputs": []
    },
    {
      "cell_type": "markdown",
      "metadata": {
        "id": "QO0tyodO8_G5",
        "colab_type": "text"
      },
      "source": [
        "label = 0  --> Benign<br>\n",
        "label = 1 --> Malignant"
      ]
    },
    {
      "cell_type": "markdown",
      "metadata": {
        "id": "tKWrLmHSVhKU",
        "colab_type": "text"
      },
      "source": [
        "Merge the predictions with the data"
      ]
    },
    {
      "cell_type": "code",
      "metadata": {
        "id": "wIegxeZN8KF_",
        "colab_type": "code",
        "colab": {}
      },
      "source": [
        "#t1 = data[\"diagnosis\"]\n",
        "#t2 = dataWithoutLabels[\"label\"]\n",
        "dataWithoutLabels[\"label\"] = cluster\n",
        "dd=pd.merge(dataWithoutLabels,data)\n",
        "dd[\"label\"].value_counts()"
      ],
      "execution_count": null,
      "outputs": []
    },
    {
      "cell_type": "markdown",
      "metadata": {
        "id": "eqXzB91yX4PP",
        "colab_type": "text"
      },
      "source": [
        "Look at the incorrect predictions"
      ]
    },
    {
      "cell_type": "code",
      "metadata": {
        "id": "plmyhcv19J40",
        "colab_type": "code",
        "colab": {}
      },
      "source": [
        "#The incorrect predictions\n",
        "cs1 = dd[\"label\"] == 0\n",
        "cs2 = dd[\"diagnosis\"] == \"M\"\n",
        "\n",
        "wrongs = dd.loc[(cs1) & (cs2)]\n",
        "wrongs['index1'] = wrongs.index\n",
        "wrongs"
      ],
      "execution_count": null,
      "outputs": []
    },
    {
      "cell_type": "code",
      "metadata": {
        "id": "9h3QdMcj_EyJ",
        "colab_type": "code",
        "colab": {}
      },
      "source": [
        "cs1 = dd[\"label\"] == 1\n",
        "cs2 = dd[\"diagnosis\"] == \"B\"\n",
        "wrongsB = dd.loc[(cs1) & (cs2)]\n",
        "wrongsB"
      ],
      "execution_count": null,
      "outputs": []
    },
    {
      "cell_type": "code",
      "metadata": {
        "id": "_zzmJh0X_Rp0",
        "colab_type": "code",
        "colab": {}
      },
      "source": [
        "plt.figure(figsize = (15, 10))\n",
        "plt.scatter(wrongs[xaxis],wrongs[yaxis], color='purple',edgecolors='yellow')\n",
        "plt.title(\"Wrong label\")\n",
        "plt.xlabel(xaxis)\n",
        "plt.ylabel(yaxis)\n",
        "\n",
        "plt.show()"
      ],
      "execution_count": null,
      "outputs": []
    },
    {
      "cell_type": "code",
      "metadata": {
        "id": "kW1vnTQsWBTF",
        "colab_type": "code",
        "colab": {}
      },
      "source": [
        "dataWithoutLabels.label.value_counts()"
      ],
      "execution_count": null,
      "outputs": []
    },
    {
      "cell_type": "markdown",
      "metadata": {
        "id": "Z8suTfVuZkQI",
        "colab_type": "text"
      },
      "source": [
        "Plot the data points, colored by category. <br>\n",
        "Make incorrect predictions are purple with yellow edges"
      ]
    },
    {
      "cell_type": "code",
      "metadata": {
        "id": "ca65q-CEWMKY",
        "colab_type": "code",
        "colab": {}
      },
      "source": [
        "# Data after hierarchical clustering\n",
        "\n",
        "plt.figure(figsize = (15, 10))\n",
        "\n",
        "plt.scatter(dataWithoutLabels[xaxis][dataWithoutLabels.label == 0], dataWithoutLabels[yaxis][dataWithoutLabels.label == 0], color = \"red\")\n",
        "plt.scatter(dataWithoutLabels[xaxis][dataWithoutLabels.label == 1], dataWithoutLabels[yaxis][dataWithoutLabels.label == 1], color = \"blue\")\n",
        "plt.scatter(dataWithoutLabels[xaxis][dataWithoutLabels.label == 2], dataWithoutLabels[yaxis][dataWithoutLabels.label == 2], color = \"green\")\n",
        "plt.scatter(dataWithoutLabels[xaxis][dataWithoutLabels.label == 3], dataWithoutLabels[yaxis][dataWithoutLabels.label == 3], color = \"orange\")\n",
        "plt.scatter(wrongs[xaxis],wrongs[yaxis], color='yellow',edgecolors='black')\n",
        "plt.xlabel(xaxis)\n",
        "plt.ylabel(yaxis)\n",
        "\n",
        "plt.show()"
      ],
      "execution_count": null,
      "outputs": []
    }
  ]
}