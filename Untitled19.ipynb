{
  "nbformat": 4,
  "nbformat_minor": 0,
  "metadata": {
    "colab": {
      "name": "Untitled19.ipynb",
      "provenance": [],
      "private_outputs": true,
      "authorship_tag": "ABX9TyMdaCtxl9uze9YIwRC2UUDZ",
      "include_colab_link": true
    },
    "kernelspec": {
      "name": "python3",
      "display_name": "Python 3"
    }
  },
  "cells": [
    {
      "cell_type": "markdown",
      "metadata": {
        "id": "view-in-github",
        "colab_type": "text"
      },
      "source": [
        "<a href=\"https://colab.research.google.com/github/cagBRT/Machine-Learning/blob/master/Untitled19.ipynb\" target=\"_parent\"><img src=\"https://colab.research.google.com/assets/colab-badge.svg\" alt=\"Open In Colab\"/></a>"
      ]
    },
    {
      "cell_type": "code",
      "metadata": {
        "id": "fqPVQOKQznaO",
        "colab_type": "code",
        "colab": {}
      },
      "source": [
        "import matplotlib.pyplot as plt\n",
        "import seaborn as sns\n",
        "import pandas as pd\n",
        "import numpy as np\n",
        "%matplotlib inline"
      ],
      "execution_count": null,
      "outputs": []
    },
    {
      "cell_type": "code",
      "metadata": {
        "id": "H_sWO2l2zrY5",
        "colab_type": "code",
        "colab": {}
      },
      "source": [
        "# load make_blobs to simulate data\n",
        "from sklearn.datasets import make_blobs\n",
        "# load decomposition to do PCA analysis with sklearn\n",
        "from sklearn import decomposition"
      ],
      "execution_count": null,
      "outputs": []
    },
    {
      "cell_type": "markdown",
      "metadata": {
        "id": "DNN300ou7JAu",
        "colab_type": "text"
      },
      "source": [
        "Make synthetic data<br>\n",
        "1000 samples<br>\n",
        "4 clusters\n",
        "10 input features"
      ]
    },
    {
      "cell_type": "code",
      "metadata": {
        "id": "PNKNQQ6_zvGe",
        "colab_type": "code",
        "colab": {}
      },
      "source": [
        "X1, Y1 = make_blobs(n_features=10, \n",
        "         n_samples=1000,\n",
        "         centers=4, random_state=4,\n",
        "         cluster_std=2)\n",
        "print(X1.shape)\n",
        "print(Y1.shape)"
      ],
      "execution_count": null,
      "outputs": []
    },
    {
      "cell_type": "markdown",
      "metadata": {
        "id": "puMhPmAq7Zih",
        "colab_type": "text"
      },
      "source": [
        "Plot the data"
      ]
    },
    {
      "cell_type": "code",
      "metadata": {
        "id": "5YdOzq4Fzyo5",
        "colab_type": "code",
        "colab": {}
      },
      "source": [
        "sns.lmplot( x =\"PC1\", y=\"PC2\",\n",
        "  data=pc_df, \n",
        "  fit_reg=False, \n",
        "  hue='Cluster', # color by cluster\n",
        "  legend=True,\n",
        "  scatter_kws={\"s\": 80}\n",
        "  ) # specify the point size"
      ],
      "execution_count": null,
      "outputs": []
    },
    {
      "cell_type": "code",
      "metadata": {
        "id": "pypgg5Fnzxcv",
        "colab_type": "code",
        "colab": {}
      },
      "source": [
        "pca = decomposition.PCA(n_components=4)"
      ],
      "execution_count": null,
      "outputs": []
    },
    {
      "cell_type": "code",
      "metadata": {
        "id": "w868S8UG0CFe",
        "colab_type": "code",
        "colab": {}
      },
      "source": [
        "pc = pca.fit_transform(X1)"
      ],
      "execution_count": null,
      "outputs": []
    },
    {
      "cell_type": "code",
      "metadata": {
        "id": "--Q4AebC7E2b",
        "colab_type": "code",
        "colab": {}
      },
      "source": [
        "pca = PCA(n_components = 5)\n",
        "fit = pca.fit(X)\n",
        "print((\"Explained Variance: %s\") % (fit.explained_variance_ratio_))\n",
        "print(\"\\n\")\n",
        "print(fit.components_)"
      ],
      "execution_count": null,
      "outputs": []
    },
    {
      "cell_type": "code",
      "metadata": {
        "id": "h2sw12Fl0FKW",
        "colab_type": "code",
        "colab": {}
      },
      "source": [
        "pc_df = pd.DataFrame(data = pc , \n",
        "        columns = ['PC1', 'PC2','PC3','PC4'])\n",
        "pc_df['Cluster'] = Y1\n",
        "pc_df.head()"
      ],
      "execution_count": null,
      "outputs": []
    },
    {
      "cell_type": "code",
      "metadata": {
        "id": "4xDbG_di62K8",
        "colab_type": "code",
        "colab": {}
      },
      "source": [
        "df = pd.DataFrame({'var':pca.explained_variance_ratio_,'PC':['PC1','PC2','PC3','PC4','PC5']})\n",
        "plt.plot('PC',\"var\",  data=df, color=\"c\");"
      ],
      "execution_count": null,
      "outputs": []
    }
  ]
}