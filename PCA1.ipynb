{
  "nbformat": 4,
  "nbformat_minor": 0,
  "metadata": {
    "colab": {
      "name": "PCA1.ipynb",
      "provenance": [],
      "private_outputs": true,
      "authorship_tag": "ABX9TyPxsUYdCGUp92iYDWRPodsu",
      "include_colab_link": true
    },
    "kernelspec": {
      "name": "python3",
      "display_name": "Python 3"
    }
  },
  "cells": [
    {
      "cell_type": "markdown",
      "metadata": {
        "id": "view-in-github",
        "colab_type": "text"
      },
      "source": [
        "<a href=\"https://colab.research.google.com/github/cagBRT/Machine-Learning/blob/master/PCA1.ipynb\" target=\"_parent\"><img src=\"https://colab.research.google.com/assets/colab-badge.svg\" alt=\"Open In Colab\"/></a>"
      ]
    },
    {
      "cell_type": "code",
      "metadata": {
        "id": "fqPVQOKQznaO",
        "colab_type": "code",
        "colab": {}
      },
      "source": [
        "import matplotlib.pyplot as plt\n",
        "import seaborn as sns\n",
        "import pandas as pd\n",
        "import numpy as np\n",
        "%matplotlib inline\n",
        "from pandas.plotting import scatter_matrix\n",
        "from sklearn.datasets import make_blobs\n",
        "from sklearn import decomposition"
      ],
      "execution_count": null,
      "outputs": []
    },
    {
      "cell_type": "markdown",
      "metadata": {
        "id": "DNN300ou7JAu",
        "colab_type": "text"
      },
      "source": [
        "Make synthetic data<br>\n",
        "1000 samples<br>\n",
        "4 clusters\n",
        "10 input features"
      ]
    },
    {
      "cell_type": "code",
      "metadata": {
        "id": "PNKNQQ6_zvGe",
        "colab_type": "code",
        "colab": {}
      },
      "source": [
        "X1, Y1 = make_blobs(n_features=10, \n",
        "         n_samples=1000,\n",
        "         centers=4, random_state=4,\n",
        "         cluster_std=2)\n",
        "print(X1.shape)\n",
        "print(Y1.shape)"
      ],
      "execution_count": null,
      "outputs": []
    },
    {
      "cell_type": "code",
      "metadata": {
        "id": "RA1LVhz4PNnQ",
        "colab_type": "code",
        "colab": {}
      },
      "source": [
        "df = pd.DataFrame(X1)"
      ],
      "execution_count": null,
      "outputs": []
    },
    {
      "cell_type": "markdown",
      "metadata": {
        "id": "WQmvp--aVP-_",
        "colab_type": "text"
      },
      "source": [
        "Plot the data each dimension by dimension"
      ]
    },
    {
      "cell_type": "code",
      "metadata": {
        "id": "Ox274QizQ0rb",
        "colab_type": "code",
        "colab": {}
      },
      "source": [
        "scatter_matrix(df, alpha=0.2, figsize=(12, 12), diagonal='kde')\n",
        "plt.show()"
      ],
      "execution_count": null,
      "outputs": []
    },
    {
      "cell_type": "code",
      "metadata": {
        "id": "GL6Z-3IKCiVV",
        "colab_type": "code",
        "colab": {}
      },
      "source": [
        "plt.scatter(df.iloc[:,3],df.iloc[:,2],c=Y1)\n",
        "plt.show()"
      ],
      "execution_count": null,
      "outputs": []
    },
    {
      "cell_type": "markdown",
      "metadata": {
        "id": "3lPmKdkrKuhc",
        "colab_type": "text"
      },
      "source": [
        " **Create a PCA model**\n",
        " X1 is the 1000 x 10 data and Y1 is cluster assignment for the 1000 samples. Create a PCA model with 4 components from sklearn.decomposition."
      ]
    },
    {
      "cell_type": "code",
      "metadata": {
        "id": "pypgg5Fnzxcv",
        "colab_type": "code",
        "colab": {}
      },
      "source": [
        "pca = decomposition.PCA(n_components=4)"
      ],
      "execution_count": null,
      "outputs": []
    },
    {
      "cell_type": "markdown",
      "metadata": {
        "id": "5r2VcA6sK3Lv",
        "colab_type": "text"
      },
      "source": [
        "The simulated data is already centered and scales, so we can go ahead and fit the PCA model. We will fit the PCA model using fit_transform function to our data X1 and the result pc contains the principal components."
      ]
    },
    {
      "cell_type": "code",
      "metadata": {
        "id": "w868S8UG0CFe",
        "colab_type": "code",
        "colab": {}
      },
      "source": [
        "pc = pca.fit_transform(X1)"
      ],
      "execution_count": null,
      "outputs": []
    },
    {
      "cell_type": "markdown",
      "metadata": {
        "id": "PtaJgpbCLAqD",
        "colab_type": "text"
      },
      "source": [
        "Make a pandas data frame with the principal components (PCs) and the known cluster assignments.\n",
        "\n"
      ]
    },
    {
      "cell_type": "code",
      "metadata": {
        "id": "h2sw12Fl0FKW",
        "colab_type": "code",
        "colab": {}
      },
      "source": [
        "pc_df = pd.DataFrame(data = pc , \n",
        "        columns = ['PC1', 'PC2','PC3','PC4'])\n",
        "pc_df['Cluster'] = Y1\n",
        "pc_df.head()"
      ],
      "execution_count": null,
      "outputs": []
    },
    {
      "cell_type": "markdown",
      "metadata": {
        "id": "yJjAprJOLIQA",
        "colab_type": "text"
      },
      "source": [
        "Examine the variance explained by each principal component. \n",
        "<br>The first two principal components explains over 70% of the variation in the data."
      ]
    },
    {
      "cell_type": "code",
      "metadata": {
        "id": "2RR-pz-YLMr9",
        "colab_type": "code",
        "colab": {}
      },
      "source": [
        "pca.explained_variance_ratio_"
      ],
      "execution_count": null,
      "outputs": []
    },
    {
      "cell_type": "markdown",
      "metadata": {
        "id": "LuWFVyK2LgTU",
        "colab_type": "text"
      },
      "source": [
        "Plot the Scree plot"
      ]
    },
    {
      "cell_type": "code",
      "metadata": {
        "id": "4xDbG_di62K8",
        "colab_type": "code",
        "colab": {}
      },
      "source": [
        "df = pd.DataFrame({'var':pca.explained_variance_ratio_,'PC':['PC1','PC2','PC3','PC4']})\n",
        "plt.plot('PC',\"var\",  data=df, color=\"c\");"
      ],
      "execution_count": null,
      "outputs": []
    },
    {
      "cell_type": "markdown",
      "metadata": {
        "id": "oT_rtiRdLoP1",
        "colab_type": "text"
      },
      "source": [
        "Use the top two principal components and make a scatter plot. Use Seaborn’s lmplot to make the PCA plot using the fit_reg=False option and color clusters with ‘hue’."
      ]
    },
    {
      "cell_type": "code",
      "metadata": {
        "id": "XxOrz5YCLu3R",
        "colab_type": "code",
        "colab": {}
      },
      "source": [
        "sns.lmplot( x=\"PC1\", y=\"PC2\",\n",
        "  data=pc_df, \n",
        "  fit_reg=False, \n",
        "  hue='Cluster', # color by cluster\n",
        "  legend=True,\n",
        "  scatter_kws={\"s\": 80}) # specify the point size"
      ],
      "execution_count": null,
      "outputs": []
    }
  ]
}