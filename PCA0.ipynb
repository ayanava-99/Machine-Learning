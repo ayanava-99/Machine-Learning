{
  "nbformat": 4,
  "nbformat_minor": 0,
  "metadata": {
    "colab": {
      "name": "PCA0.ipynb",
      "provenance": [],
      "private_outputs": true,
      "authorship_tag": "ABX9TyPjDLh3P7rBG+GxUrK8y+We",
      "include_colab_link": true
    },
    "kernelspec": {
      "name": "python3",
      "display_name": "Python 3"
    }
  },
  "cells": [
    {
      "cell_type": "markdown",
      "metadata": {
        "id": "view-in-github",
        "colab_type": "text"
      },
      "source": [
        "<a href=\"https://colab.research.google.com/github/cagBRT/Machine-Learning/blob/master/PCA0.ipynb\" target=\"_parent\"><img src=\"https://colab.research.google.com/assets/colab-badge.svg\" alt=\"Open In Colab\"/></a>"
      ]
    },
    {
      "cell_type": "code",
      "metadata": {
        "id": "R7DmpbtP2lnE",
        "colab_type": "code",
        "colab": {}
      },
      "source": [
        "import pandas as pd\n",
        "import numpy as np\n",
        "from sklearn.preprocessing import StandardScaler\n",
        "from matplotlib import*\n",
        "import matplotlib.pyplot as plt\n",
        "from matplotlib.cm import register_cmap\n",
        "from scipy import stats\n",
        "from sklearn.decomposition import PCA as sklearnPCA\n",
        "import seaborn"
      ],
      "execution_count": null,
      "outputs": []
    },
    {
      "cell_type": "code",
      "metadata": {
        "id": "Aw8l12qj5cly",
        "colab_type": "code",
        "colab": {}
      },
      "source": [
        "#Load movie names and movie ratings\n",
        "movies = pd.read_csv('C:UsersNeelTempDesktopPCA DATAmovies.csv')\n",
        "ratings = pd.read_csv('C:UsersNeelTempDesktopPCA DATAratings.csv')\n",
        "ratings.drop(['timestamp'], axis=1, inplace=True)"
      ],
      "execution_count": null,
      "outputs": []
    },
    {
      "cell_type": "code",
      "metadata": {
        "id": "17H5mc6x5_8N",
        "colab_type": "code",
        "colab": {}
      },
      "source": [
        "def replace_name(x):\n",
        "  return movies[movies['movieId']==x].title.values[0]\n",
        "\n",
        "\n",
        "ratings.movieId = ratings.movieId.map(replace_name)\n",
        "M = ratings.pivot_table(index=['userId'], columns=['movieId'], values='rating')\n",
        "m = M.shape\n",
        "df1 = M.replace(np.nan, 0, regex=True)"
      ],
      "execution_count": null,
      "outputs": []
    },
    {
      "cell_type": "code",
      "metadata": {
        "id": "6ZfqbzQZ6Cle",
        "colab_type": "code",
        "colab": {}
      },
      "source": [
        "X_std = StandardScaler().fit_transform(df1)"
      ],
      "execution_count": null,
      "outputs": []
    },
    {
      "cell_type": "code",
      "metadata": {
        "id": "3EVFQNKC6G5d",
        "colab_type": "code",
        "colab": {}
      },
      "source": [
        "mean_vec = np.mean(X_std, axis=0)\n",
        "cov_mat = (X_std - mean_vec).T.dot((X_std - mean_vec)) / (X_std.shape[0]-1)\n",
        "print('Covariance matrix n%s' %cov_mat)"
      ],
      "execution_count": null,
      "outputs": []
    },
    {
      "cell_type": "code",
      "metadata": {
        "id": "p_dg2rEo6J5h",
        "colab_type": "code",
        "colab": {}
      },
      "source": [
        "#Calculating eigenvectors and eigenvalues on covariance matrix\n",
        "cov_mat = np.cov(X_std.T)\n",
        "eig_vals, eig_vecs = np.linalg.eig(cov_mat)\n",
        "print('Eigenvectors n%s' %eig_vecs)\n",
        "print('nEigenvalues n%s' %eig_vals)"
      ],
      "execution_count": null,
      "outputs": []
    },
    {
      "cell_type": "code",
      "metadata": {
        "id": "VHAH-JMH6Sr0",
        "colab_type": "code",
        "colab": {}
      },
      "source": [
        "pca = PCA(n_components=2)\n",
        "pca.fit_transform(df1)\n",
        "print(pca.explained_variance_ratio_)"
      ],
      "execution_count": null,
      "outputs": []
    },
    {
      "cell_type": "code",
      "metadata": {
        "id": "E3PZJUOH6bY1",
        "colab_type": "code",
        "colab": {}
      },
      "source": [
        "pca = PCA().fit(X_std)\n",
        "plt.plot(np.cumsum(pca.explained_variance_ratio_))\n",
        "plt.xlabel('number of components')\n",
        "plt.ylabel('cumulative explained variance')\n",
        "plt.show()"
      ],
      "execution_count": null,
      "outputs": []
    }
  ]
}