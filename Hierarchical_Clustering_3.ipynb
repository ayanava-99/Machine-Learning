{
  "nbformat": 4,
  "nbformat_minor": 0,
  "metadata": {
    "colab": {
      "name": "Hierarchical Clustering 3.ipynb",
      "provenance": [],
      "collapsed_sections": [],
      "include_colab_link": true
    },
    "kernelspec": {
      "name": "python3",
      "display_name": "Python 3"
    }
  },
  "cells": [
    {
      "cell_type": "markdown",
      "metadata": {
        "id": "view-in-github",
        "colab_type": "text"
      },
      "source": [
        "<a href=\"https://colab.research.google.com/github/cagBRT/Machine-Learning/blob/master/Hierarchical_Clustering_3.ipynb\" target=\"_parent\"><img src=\"https://colab.research.google.com/assets/colab-badge.svg\" alt=\"Open In Colab\"/></a>"
      ]
    },
    {
      "cell_type": "markdown",
      "metadata": {
        "id": "IPft1cDWCZST",
        "colab_type": "text"
      },
      "source": [
        "https://towardsdatascience.com/understanding-the-concept-of-hierarchical-clustering-technique-c6e8243758ec\n"
      ]
    },
    {
      "cell_type": "code",
      "metadata": {
        "id": "1prKDTnQlyrt",
        "colab_type": "code",
        "colab": {}
      },
      "source": [
        "!git clone -l -s https://github.com/cagBRT/Machine-Learning.git cloned-repo\n",
        "%cd cloned-repo\n",
        "!ls"
      ],
      "execution_count": null,
      "outputs": []
    },
    {
      "cell_type": "code",
      "metadata": {
        "id": "8hFM6v44mS9N",
        "colab_type": "code",
        "colab": {}
      },
      "source": [
        "import numpy as np\n",
        "import matplotlib.pyplot as plt\n",
        "import pandas as pd\n",
        "%matplotlib inline\n",
        "\n",
        "import scipy.cluster.hierarchy as sch"
      ],
      "execution_count": null,
      "outputs": []
    },
    {
      "cell_type": "markdown",
      "metadata": {
        "id": "U3lOiT9p2VRv",
        "colab_type": "text"
      },
      "source": [
        "Thsi dataset is for mall customers<br>\n"
      ]
    },
    {
      "cell_type": "code",
      "metadata": {
        "id": "C1zwDHuimVg0",
        "colab_type": "code",
        "colab": {}
      },
      "source": [
        "#importing the dataset\n",
        "dataset = pd.read_csv('Mall_Customers.csv')\n",
        "dataset"
      ],
      "execution_count": null,
      "outputs": []
    },
    {
      "cell_type": "markdown",
      "metadata": {
        "id": "OA6v2UB02gyi",
        "colab_type": "text"
      },
      "source": [
        "Plot the annual income and spending score"
      ]
    },
    {
      "cell_type": "code",
      "metadata": {
        "id": "RSDfry-smbf7",
        "colab_type": "code",
        "colab": {}
      },
      "source": [
        "#Select annual income (k$) and spending score (1-100)colums\n",
        "X = dataset.iloc[:, [3, 4]].values"
      ],
      "execution_count": null,
      "outputs": []
    },
    {
      "cell_type": "code",
      "metadata": {
        "id": "AaqmleCUsz1s",
        "colab_type": "code",
        "colab": {}
      },
      "source": [
        "plt.figure(figsize = (10, 7))\n",
        "plt.scatter(X[:,0],X[:,1])\n",
        "plt.xlabel(\"Annual Income\")\n",
        "plt.ylabel(\"Spending Score\")\n",
        "plt.plot()"
      ],
      "execution_count": null,
      "outputs": []
    },
    {
      "cell_type": "code",
      "metadata": {
        "id": "uGCvsYPin19Y",
        "colab_type": "code",
        "colab": {}
      },
      "source": [
        "X.shape"
      ],
      "execution_count": null,
      "outputs": []
    },
    {
      "cell_type": "code",
      "metadata": {
        "id": "xc6jZjPHmmIy",
        "colab_type": "code",
        "colab": {}
      },
      "source": [
        "#X"
      ],
      "execution_count": null,
      "outputs": []
    },
    {
      "cell_type": "markdown",
      "metadata": {
        "id": "TmIWWkP42t4C",
        "colab_type": "text"
      },
      "source": [
        "Create the dendrogram"
      ]
    },
    {
      "cell_type": "code",
      "metadata": {
        "id": "vjMlEhDAnJTM",
        "colab_type": "code",
        "colab": {}
      },
      "source": [
        "#using dendrogram for optimal number of clusters\n",
        "plt.figure(figsize=(25, 10))\n",
        "plt.plot()\n",
        "dendrogram = sch.dendrogram(sch.linkage(X, method = 'ward'))\n",
        "plt.title('Dendrogram')\n",
        "plt.xlabel('Customers')\n",
        "plt.ylabel('Euclidean distance')\n",
        "plt.show()"
      ],
      "execution_count": null,
      "outputs": []
    },
    {
      "cell_type": "markdown",
      "metadata": {
        "id": "wA23eiHu2xNp",
        "colab_type": "text"
      },
      "source": [
        "How many clusters 3 or 5?"
      ]
    },
    {
      "cell_type": "code",
      "metadata": {
        "id": "iR_jh1ESsn0k",
        "colab_type": "code",
        "colab": {}
      },
      "source": [
        "from sklearn.cluster import AgglomerativeClustering\n",
        "hc = AgglomerativeClustering(n_clusters = 5, affinity = 'euclidean', linkage = 'ward')\n",
        "y_hc = hc.fit_predict(X)"
      ],
      "execution_count": null,
      "outputs": []
    },
    {
      "cell_type": "code",
      "metadata": {
        "id": "gETmWP42wr_1",
        "colab_type": "code",
        "colab": {}
      },
      "source": [
        "plt.figure(figsize = (10, 7))\n",
        "plt.scatter(X[:,0],X[:,1], c=y_hc,cmap=\"rainbow\")\n",
        "plt.xlabel(\"Annual Income\")\n",
        "plt.ylabel(\"Spending Score\")\n",
        "plt.plot()"
      ],
      "execution_count": null,
      "outputs": []
    }
  ]
}